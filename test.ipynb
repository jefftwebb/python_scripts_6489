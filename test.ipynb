{
  "nbformat": 4,
  "nbformat_minor": 0,
  "metadata": {
    "colab": {
      "name": "test.ipynb",
      "provenance": [],
      "collapsed_sections": [],
      "toc_visible": true,
      "authorship_tag": "ABX9TyNlkJRot1nn4jfAC1tfwCjd",
      "include_colab_link": true
    },
    "kernelspec": {
      "name": "python3",
      "display_name": "Python 3"
    },
    "language_info": {
      "name": "python"
    }
  },
  "cells": [
    {
      "cell_type": "markdown",
      "metadata": {
        "id": "view-in-github",
        "colab_type": "text"
      },
      "source": [
        "<a href=\"https://colab.research.google.com/github/jefftwebb/python_scripts_6489/blob/main/test.ipynb\" target=\"_parent\"><img src=\"https://colab.research.google.com/assets/colab-badge.svg\" alt=\"Open In Colab\"/></a>"
      ]
    },
    {
      "cell_type": "markdown",
      "source": [
        "## Load libraries\n"
      ],
      "metadata": {
        "id": "ALtVUhU9I9hp"
      }
    },
    {
      "cell_type": "code",
      "execution_count": 7,
      "metadata": {
        "id": "V8wzwxrGAcsw"
      },
      "outputs": [],
      "source": [
        "import pandas as pd\n",
        "import matplotlib as mpl\n"
      ]
    },
    {
      "cell_type": "markdown",
      "source": [
        "## Load data and inspect"
      ],
      "metadata": {
        "id": "XqBUvawrJMW_"
      }
    },
    {
      "cell_type": "code",
      "source": [
        "m = pd.read_csv(\"/megatelco.csv\")\n",
        "m.head\n"
      ],
      "metadata": {
        "id": "EnREEP3wAkBc"
      },
      "execution_count": null,
      "outputs": []
    },
    {
      "cell_type": "code",
      "source": [
        "m.info"
      ],
      "metadata": {
        "id": "NcMfjFNUGpXd"
      },
      "execution_count": null,
      "outputs": []
    },
    {
      "cell_type": "markdown",
      "source": [
        ""
      ],
      "metadata": {
        "id": "8IPd_kf_E7G9"
      }
    },
    {
      "cell_type": "markdown",
      "source": [
        ""
      ],
      "metadata": {
        "id": "2RdoJEtAI5hG"
      }
    }
  ]
}